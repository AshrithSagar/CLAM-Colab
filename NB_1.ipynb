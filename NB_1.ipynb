{
  "nbformat": 4,
  "nbformat_minor": 0,
  "metadata": {
    "colab": {
      "name": "NB_1.ipynb",
      "provenance": [],
      "collapsed_sections": [],
      "authorship_tag": "ABX9TyPBPSfKwgsc1O3c3z4Mf1xa",
      "include_colab_link": true
    },
    "kernelspec": {
      "name": "python3",
      "display_name": "Python 3"
    },
    "language_info": {
      "name": "python"
    }
  },
  "cells": [
    {
      "cell_type": "markdown",
      "metadata": {
        "id": "view-in-github",
        "colab_type": "text"
      },
      "source": [
        "<a href=\"https://colab.research.google.com/github/AshrithSagar/DL-Fungal-1/blob/main/NB_1.ipynb\" target=\"_parent\"><img src=\"https://colab.research.google.com/assets/colab-badge.svg\" alt=\"Open In Colab\"/></a>"
      ]
    },
    {
      "cell_type": "code",
      "execution_count": null,
      "metadata": {
        "id": "jvxxmsw62D_d"
      },
      "outputs": [],
      "source": [
        "!apt-get install openslide-tools"
      ]
    },
    {
      "cell_type": "code",
      "source": [
        "!python --version\n",
        "!which python\n",
        "!echo $PYTHONPATH\n",
        "%env PYTHONPATH="
      ],
      "metadata": {
        "id": "R9TpPWOO-am-"
      },
      "execution_count": null,
      "outputs": []
    },
    {
      "cell_type": "code",
      "source": [
        "%%bash\n",
        "MINICONDA_INSTALLER_SCRIPT=Miniconda3-4.5.4-Linux-x86_64.sh\n",
        "MINICONDA_PREFIX=/usr/local\n",
        "wget https://repo.continuum.io/miniconda/$MINICONDA_INSTALLER_SCRIPT\n",
        "chmod +x $MINICONDA_INSTALLER_SCRIPT\n",
        "./$MINICONDA_INSTALLER_SCRIPT -b -f -p $MINICONDA_PREFIX"
      ],
      "metadata": {
        "id": "_1LQ33nV-nSt"
      },
      "execution_count": null,
      "outputs": []
    },
    {
      "cell_type": "code",
      "source": [
        "%%bash\n",
        "conda install --channel defaults conda python=3.6 --yes\n",
        "conda update --channel defaults --all --yes"
      ],
      "metadata": {
        "colab": {
          "base_uri": "https://localhost:8080/"
        },
        "id": "sCYMqMGp-4Az",
        "outputId": "7742b266-3c39-4d05-c439-173eca429d4f"
      },
      "execution_count": 33,
      "outputs": [
        {
          "output_type": "stream",
          "name": "stdout",
          "text": [
            "Solving environment: ...working... failed\n",
            "Solving environment: ...working... failed\n"
          ]
        },
        {
          "output_type": "stream",
          "name": "stderr",
          "text": [
            "\n",
            "UnsatisfiableError: The following specifications were found to be in conflict:\n",
            "  - python=3.6\n",
            "  - python=3.7\n",
            "Use \"conda info <package>\" to see the dependencies for each package.\n",
            "\n",
            "\n",
            "# >>>>>>>>>>>>>>>>>>>>>> ERROR REPORT <<<<<<<<<<<<<<<<<<<<<<\n",
            "\n",
            "    Traceback (most recent call last):\n",
            "      File \"/usr/local/lib/python3.6/site-packages/conda/exceptions.py\", line 819, in __call__\n",
            "        return func(*args, **kwargs)\n",
            "      File \"/usr/local/lib/python3.6/site-packages/conda/cli/main.py\", line 78, in _main\n",
            "        exit_code = do_call(args, p)\n",
            "      File \"/usr/local/lib/python3.6/site-packages/conda/cli/conda_argparse.py\", line 77, in do_call\n",
            "        exit_code = getattr(module, func_name)(args, parser)\n",
            "      File \"/usr/local/lib/python3.6/site-packages/conda/cli/main_update.py\", line 14, in execute\n",
            "        install(args, parser, 'update')\n",
            "      File \"/usr/local/lib/python3.6/site-packages/conda/cli/install.py\", line 235, in install\n",
            "        force_reinstall=context.force,\n",
            "      File \"/usr/local/lib/python3.6/site-packages/conda/core/solve.py\", line 505, in solve_for_transaction\n",
            "        force_remove, force_reinstall)\n",
            "      File \"/usr/local/lib/python3.6/site-packages/conda/core/solve.py\", line 438, in solve_for_diff\n",
            "        final_precs = self.solve_final_state(deps_modifier, prune, ignore_pinned, force_remove)\n",
            "      File \"/usr/local/lib/python3.6/site-packages/conda/core/solve.py\", line 401, in solve_final_state\n",
            "        self._check_solution(solution, pinned_specs)\n",
            "      File \"/usr/local/lib/python3.6/site-packages/conda/core/solve.py\", line 575, in _check_solution\n",
            "        assert not any(d.name == spec.name for d in solution)\n",
            "    AssertionError\n",
            "\n",
            "`$ /usr/local/bin/conda update --channel defaults --all --yes`\n",
            "\n",
            "  environment variables:\n",
            "                 CIO_TEST=<not set>\n",
            "               CONDA_ROOT=/usr/local\n",
            "          LD_LIBRARY_PATH=/usr/local/lib:/usr/local/nvidia/lib:/usr/local/nvidia/lib64\n",
            "             LIBRARY_PATH=/usr/local/cuda/lib64/stubs\n",
            "                     PATH=/opt/bin:/usr/local/nvidia/bin:/usr/local/cuda/bin:/usr/local/sbin:/us\n",
            "                          r/local/bin:/usr/sbin:/usr/bin:/sbin:/bin:/tools/node/bin:/tools/googl\n",
            "                          e-cloud-sdk/bin\n",
            "               PYTHONPATH=\n",
            "           PYTHONWARNINGS=ignore:::pip._internal.cli.base_command\n",
            "       REQUESTS_CA_BUNDLE=<not set>\n",
            "            SSL_CERT_FILE=<not set>\n",
            "\n",
            "     active environment : None\n",
            "       user config file : /root/.condarc\n",
            " populated config files : /usr/local/.condarc\n",
            "          conda version : 4.5.4\n",
            "    conda-build version : not installed\n",
            "         python version : 3.6.5.final.0\n",
            "       base environment : /usr/local  (writable)\n",
            "           channel URLs : https://repo.anaconda.com/pkgs/main/linux-64\n",
            "                          https://repo.anaconda.com/pkgs/main/noarch\n",
            "                          https://repo.anaconda.com/pkgs/free/linux-64\n",
            "                          https://repo.anaconda.com/pkgs/free/noarch\n",
            "                          https://repo.anaconda.com/pkgs/r/linux-64\n",
            "                          https://repo.anaconda.com/pkgs/r/noarch\n",
            "                          https://repo.anaconda.com/pkgs/pro/linux-64\n",
            "                          https://repo.anaconda.com/pkgs/pro/noarch\n",
            "                          https://conda.anaconda.org/conda-forge/linux-64\n",
            "                          https://conda.anaconda.org/conda-forge/noarch\n",
            "          package cache : /usr/local/pkgs\n",
            "                          /root/.conda/pkgs\n",
            "       envs directories : /usr/local/envs\n",
            "                          /root/.conda/envs\n",
            "               platform : linux-64\n",
            "             user-agent : conda/4.5.4 requests/2.18.4 CPython/3.6.5 Linux/5.4.188+ ubuntu/18.04 glibc/2.27\n",
            "                UID:GID : 0:0\n",
            "             netrc file : None\n",
            "           offline mode : False\n",
            "\n",
            "\n",
            "An unexpected error has occurred. Conda has prepared the above report.\n",
            "Upload did not complete."
          ]
        }
      ]
    },
    {
      "cell_type": "code",
      "source": [
        "import sys\n",
        "sys.path\n",
        "\n",
        "_ = (sys.path\n",
        "        .append(\"/usr/local/lib/python3.6/site-packages\"))"
      ],
      "metadata": {
        "id": "KscAbxgr_zEC"
      },
      "execution_count": null,
      "outputs": []
    },
    {
      "cell_type": "code",
      "source": [
        "!conda --version\n",
        "!which conda"
      ],
      "metadata": {
        "colab": {
          "base_uri": "https://localhost:8080/"
        },
        "id": "5J0lAPrz85kQ",
        "outputId": "f922a12d-bd4f-4eca-f948-277047c8ab5b"
      },
      "execution_count": 37,
      "outputs": [
        {
          "output_type": "stream",
          "name": "stdout",
          "text": [
            "conda 4.5.4\n",
            "/usr/local/bin/conda\n"
          ]
        }
      ]
    },
    {
      "cell_type": "code",
      "source": [
        "!conda env create -n clam -f /content/clam.yml"
      ],
      "metadata": {
        "colab": {
          "base_uri": "https://localhost:8080/"
        },
        "id": "LnvxoO-b8eI-",
        "outputId": "19ccc692-0f69-4055-9c5c-6ff46f5c55db"
      },
      "execution_count": 38,
      "outputs": [
        {
          "output_type": "stream",
          "name": "stdout",
          "text": [
            "\n",
            "SpecNotFound: Invalid name, try the format: user/package\n",
            "\n"
          ]
        }
      ]
    },
    {
      "cell_type": "code",
      "source": [
        "!conda activate clam"
      ],
      "metadata": {
        "colab": {
          "base_uri": "https://localhost:8080/"
        },
        "id": "njuoTQA88xkZ",
        "outputId": "78569450-c4ab-4730-ad35-9dbe70a6fb32"
      },
      "execution_count": 36,
      "outputs": [
        {
          "output_type": "stream",
          "name": "stdout",
          "text": [
            "\n",
            "CommandNotFoundError: Your shell has not been properly configured to use 'conda activate'.\n",
            "If your shell is Bash or a Bourne variant, enable conda for the current user with\n",
            "\n",
            "    $ echo \". /usr/local/etc/profile.d/conda.sh\" >> ~/.bashrc\n",
            "\n",
            "or, for all users, enable conda with\n",
            "\n",
            "    $ sudo ln -s /usr/local/etc/profile.d/conda.sh /etc/profile.d/conda.sh\n",
            "\n",
            "The options above will permanently enable the 'conda' command, but they do NOT\n",
            "put conda's base (root) environment on PATH.  To do so, run\n",
            "\n",
            "    $ conda activate\n",
            "\n",
            "in your terminal, or to put the base environment on PATH permanently, run\n",
            "\n",
            "    $ echo \"conda activate\" >> ~/.bashrc\n",
            "\n",
            "Previous to conda 4.4, the recommended way to activate conda was to modify PATH in\n",
            "your ~/.bashrc file.  You should manually remove the line that looks like\n",
            "\n",
            "    export PATH=\"/usr/local/bin:$PATH\"\n",
            "\n",
            "^^^ The above line should NO LONGER be in your ~/.bashrc file! ^^^\n",
            "\n",
            "\n"
          ]
        }
      ]
    }
  ]
}