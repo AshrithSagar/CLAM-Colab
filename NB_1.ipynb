{
  "nbformat": 4,
  "nbformat_minor": 0,
  "metadata": {
    "colab": {
      "name": "NB_1.ipynb",
      "provenance": [],
      "collapsed_sections": [],
      "authorship_tag": "ABX9TyNjT9Erg+9UvEZMH80Q3r2P",
      "include_colab_link": true
    },
    "kernelspec": {
      "name": "python3",
      "display_name": "Python 3"
    },
    "language_info": {
      "name": "python"
    }
  },
  "cells": [
    {
      "cell_type": "markdown",
      "metadata": {
        "id": "view-in-github",
        "colab_type": "text"
      },
      "source": [
        "<a href=\"https://colab.research.google.com/github/AshrithSagar/DL-Fungal-1/blob/main/NB_1.ipynb\" target=\"_parent\"><img src=\"https://colab.research.google.com/assets/colab-badge.svg\" alt=\"Open In Colab\"/></a>"
      ]
    },
    {
      "cell_type": "markdown",
      "source": [
        "# Installation"
      ],
      "metadata": {
        "id": "ohrswbLt94Op"
      }
    },
    {
      "cell_type": "code",
      "source": [
        "!pip install -q condacolab\n",
        "import condacolab\n",
        "condacolab.install()"
      ],
      "metadata": {
        "id": "5RPkev3k6bfO"
      },
      "execution_count": null,
      "outputs": []
    },
    {
      "cell_type": "code",
      "source": [
        "import condacolab\n",
        "condacolab.check()"
      ],
      "metadata": {
        "id": "HqMmkGWe6uWA"
      },
      "execution_count": null,
      "outputs": []
    },
    {
      "cell_type": "code",
      "source": [
        " % cd /content\n",
        "!git clone https://github.com/mahmoodlab/CLAM.git"
      ],
      "metadata": {
        "id": "EdaL7VI2fryT"
      },
      "execution_count": null,
      "outputs": []
    },
    {
      "cell_type": "markdown",
      "source": [
        "---\n",
        "CHECKPOINT\n",
        "\n",
        "---"
      ],
      "metadata": {
        "id": "IBs8j16ZSv9H"
      }
    },
    {
      "cell_type": "markdown",
      "source": [
        "Remove versions in `docs/clam.yaml` for \n",
        "- jsonschema\n",
        "- openslides\n",
        "- lxml"
      ],
      "metadata": {
        "id": "mc--r0RMG91V"
      }
    },
    {
      "cell_type": "code",
      "source": [
        "!conda env update -n base -f /content/CLAM/docs/clam.yamopenslide-toolsl"
      ],
      "metadata": {
        "id": "xguXiWSp6wSj"
      },
      "execution_count": null,
      "outputs": []
    },
    {
      "cell_type": "code",
      "execution_count": null,
      "metadata": {
        "id": "jvxxmsw62D_d"
      },
      "outputs": [],
      "source": [
        "!apt-get install openslide-tools"
      ]
    },
    {
      "cell_type": "code",
      "source": [
        "!python --version\n",
        "!which python\n",
        "!echo $PYTHONPATH\n",
        "# %env PYTHONPATH="
      ],
      "metadata": {
        "id": "R9TpPWOO-am-"
      },
      "execution_count": null,
      "outputs": []
    },
    {
      "cell_type": "code",
      "source": [
        "!conda --version\n",
        "!which conda"
      ],
      "metadata": {
        "id": "5J0lAPrz85kQ"
      },
      "execution_count": null,
      "outputs": []
    },
    {
      "cell_type": "code",
      "source": [
        "%cd /content\n",
        "!git clone https://github.com/oval-group/smooth-topk.git\n",
        "%cd smooth-topk\n",
        "!python smooth-topk/setup.py install"
      ],
      "metadata": {
        "id": "TOzkr4EFhS0v"
      },
      "execution_count": null,
      "outputs": []
    },
    {
      "cell_type": "markdown",
      "source": [
        "---\n",
        "CHECKPOINT\n",
        "\n",
        "---"
      ],
      "metadata": {
        "id": "iVhxsaV6SnSH"
      }
    },
    {
      "cell_type": "code",
      "source": [
        "%cd /content\n",
        "!mkdir RESULTS_DIRECTORY\n",
        "!mkdir DATA_DIRECTORY"
      ],
      "metadata": {
        "id": "zkVeCEXwV7zZ"
      },
      "execution_count": null,
      "outputs": []
    },
    {
      "cell_type": "markdown",
      "source": [
        "DATA_DIRECTORY from Google Drive"
      ],
      "metadata": {
        "id": "8Cc4StWy1LOY"
      }
    },
    {
      "cell_type": "code",
      "source": [
        "# Import PyDrive and associated libraries.\n",
        "# This only needs to be done once per notebook.\n",
        "from pydrive.auth import GoogleAuth\n",
        "from pydrive.drive import GoogleDrive\n",
        "from google.colab import auth\n",
        "from oauth2client.client import GoogleCredentials\n",
        "\n",
        "# Authenticate and create the PyDrive client.\n",
        "# This only needs to be done once per notebook.\n",
        "auth.authenticate_user()\n",
        "gauth = GoogleAuth()\n",
        "gauth.credentials = GoogleCredentials.get_application_default()\n",
        "drive = GoogleDrive(gauth)"
      ],
      "metadata": {
        "id": "G0_jJmwmXNRN"
      },
      "execution_count": null,
      "outputs": []
    },
    {
      "cell_type": "code",
      "source": [
        "# Download a file based on its file ID.\n",
        "# A file ID looks like: laggVyWshwcyP6kEI-y_W3P8D26sz\n",
        "file_id = ''\n",
        "downloaded = drive.CreateFile({'id': file_id})\n",
        "print('Downloaded content \"{}\"'.format(downloaded.GetContentString()))"
      ],
      "metadata": {
        "id": "oVbw3A4CXP88"
      },
      "execution_count": null,
      "outputs": []
    },
    {
      "cell_type": "markdown",
      "source": [
        "# Run"
      ],
      "metadata": {
        "id": "DAHvyiWk917p"
      }
    },
    {
      "cell_type": "code",
      "source": [
        "# Basic, Fully Automated Run\n",
        "!python create_patches_fp.py --source DATA_DIRECTORY --save_dir RESULTS_DIRECTORY --patch_size 256 --patch --stitch"
      ],
      "metadata": {
        "id": "jDLcnpet8Ssj"
      },
      "execution_count": null,
      "outputs": []
    },
    {
      "cell_type": "code",
      "source": [
        "# !python create_patches_fp.py --source DATA_DIRECTORY --save_dir RESULTS_DIRECTORY --patch_size 256 --preset bwh_biopsy.csv --seg --patch --stitch"
      ],
      "metadata": {
        "id": "ZAvAjbV-8WXk"
      },
      "execution_count": null,
      "outputs": []
    },
    {
      "cell_type": "code",
      "source": [
        "# Two-Step Run (Mannually Adjust Parameters For Specific Slides)\n",
        "!python create_patches_fp.py --source DATA_DIRECTORY --save_dir RESULTS_DIRECTORY --patch_size 256 --seg  "
      ],
      "metadata": {
        "id": "95Gi9DUy8YvC"
      },
      "execution_count": null,
      "outputs": []
    }
  ]
}