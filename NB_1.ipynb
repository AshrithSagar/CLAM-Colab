{
  "nbformat": 4,
  "nbformat_minor": 0,
  "metadata": {
    "colab": {
      "name": "NB_1.ipynb",
      "provenance": [],
      "collapsed_sections": [],
      "authorship_tag": "ABX9TyOQ44jC+dXLZJ6ROfYjKI4Y",
      "include_colab_link": true
    },
    "kernelspec": {
      "name": "python3",
      "display_name": "Python 3"
    },
    "language_info": {
      "name": "python"
    }
  },
  "cells": [
    {
      "cell_type": "markdown",
      "metadata": {
        "id": "view-in-github",
        "colab_type": "text"
      },
      "source": [
        "<a href=\"https://colab.research.google.com/github/AshrithSagar/DL-Fungal-1/blob/main/NB_1.ipynb\" target=\"_parent\"><img src=\"https://colab.research.google.com/assets/colab-badge.svg\" alt=\"Open In Colab\"/></a>"
      ]
    },
    {
      "cell_type": "markdown",
      "source": [
        "# Installation"
      ],
      "metadata": {
        "id": "ohrswbLt94Op"
      }
    },
    {
      "cell_type": "code",
      "source": [
        "!pip install -q condacolab\n",
        "import condacolab\n",
        "condacolab.install()"
      ],
      "metadata": {
        "colab": {
          "base_uri": "https://localhost:8080/"
        },
        "id": "5RPkev3k6bfO",
        "outputId": "1670b30f-9a07-49ec-bb13-af8735d6618b"
      },
      "execution_count": 29,
      "outputs": [
        {
          "output_type": "stream",
          "name": "stdout",
          "text": [
            "✨🍰✨ Everything looks OK!\n"
          ]
        }
      ]
    },
    {
      "cell_type": "code",
      "source": [
        "import condacolab\n",
        "condacolab.check()"
      ],
      "metadata": {
        "colab": {
          "base_uri": "https://localhost:8080/"
        },
        "id": "HqMmkGWe6uWA",
        "outputId": "36d26319-5732-4bc9-9662-bda654e68c72"
      },
      "execution_count": 30,
      "outputs": [
        {
          "output_type": "stream",
          "name": "stdout",
          "text": [
            "✨🍰✨ Everything looks OK!\n"
          ]
        }
      ]
    },
    {
      "cell_type": "code",
      "source": [
        "  !conda env update -n base -f clam.yaml"
      ],
      "metadata": {
        "colab": {
          "base_uri": "https://localhost:8080/"
        },
        "id": "xguXiWSp6wSj",
        "outputId": "c573fa1b-a4b7-4a1d-a8e4-a61704161f21"
      },
      "execution_count": 41,
      "outputs": [
        {
          "output_type": "stream",
          "name": "stdout",
          "text": [
            "Collecting package metadata (repodata.json): - \b\b\\ \b\b| \b\b/ \b\b- \b\b\\ \b\b| \b\b/ \b\b- \b\b\\ \b\b| \b\b/ \b\b- \b\b\\ \b\b| \b\b/ \b\b- \b\b\\ \b\b| \b\b/ \b\b- \b\b\\ \b\b| \b\b/ \b\b- \b\b\\ \b\b| \b\b/ \b\b- \b\b\\ \b\b| \b\b/ \b\b- \b\b\\ \b\b| \b\b/ \b\b- \b\b\\ \b\b| \b\b/ \b\b- \b\b\\ \b\b| \b\b/ \b\b- \b\b\\ \b\b| \b\b/ \b\b- \b\b\\ \b\b| \b\b/ \b\b- \b\b\\ \b\b| \b\b/ \b\b- \b\b\\ \b\b| \b\b/ \b\b- \b\b\\ \b\b| \b\b/ \b\b- \b\b\\ \b\b| \b\b/ \b\b- \b\b\\ \b\b| \b\b/ \b\b- \b\b\\ \b\b| \b\b/ \b\b- \b\b\\ \b\b| \b\b/ \b\b- \b\b\\ \b\b| \b\b/ \b\b- \b\b\\ \b\b| \b\b/ \b\b- \b\b\\ \b\b| \b\b/ \b\b- \b\b\\ \b\b| \b\b/ \b\b- \b\b\\ \b\b| \b\b/ \b\b- \b\b\\ \b\b| \b\b/ \b\b- \b\b\\ \b\b| \b\b/ \b\b- \b\b\\ \b\b| \b\b/ \b\b- \b\b\\ \b\b| \b\b/ \b\b- \b\b\\ \b\b| \b\b/ \b\b- \b\b\\ \b\b| \b\b/ \b\b- \b\b\\ \b\b| \b\b/ \b\b- \b\b\\ \b\b| \b\b/ \b\b- \b\b\\ \b\b| \b\b/ \b\b- \b\b\\ \b\b| \b\b/ \b\bdone\n",
            "Solving environment: \\ \b\b| \b\b/ \b\b- \b\b\\ \b\b| \b\b/ \b\b- \b\b\\ \b\b| \b\b/ \b\b- \b\b\\ \b\b| \b\b/ \b\b- \b\b\\ \b\b| \b\b/ \b\b- \b\b\\ \b\b| \b\b/ \b\b- \b\b\\ \b\b| \b\b/ \b\b- \b\b\\ \b\b| \b\b/ \b\b- \b\b\\ \b\b| \b\b/ \b\b- \b\b\\ \b\b| \b\b/ \b\b- \b\b\\ \b\b| \b\b/ \b\b- \b\b\\ \b\b| \b\b/ \b\b- \b\b\\ \b\b| \b\b/ \b\b- \b\b\\ \b\b| \b\b/ \b\b- \b\b\\ \b\b| \b\b/ \b\b- \b\b\\ \b\b| \b\b/ \b\b- \b\b\\ \b\b| \b\b/ \b\b- \b\b\\ \b\b| \b\b/ \b\b- \b\b\\ \b\b| \b\b/ \b\b- \b\b\\ \b\b| \b\b/ \b\b- \b\b\\ \b\b| \b\b/ \b\b- \b\b\\ \b\b| \b\b/ \b\b- \b\b\\ \b\b| \b\b/ \b\b- \b\b\\ \b\b| \b\b/ \b\b- \b\b\\ \b\b| \b\b/ \b\b- \b\b\\ WARNING conda.core.solve:_add_specs(611): pinned spec cudatoolkit=11.1 conflicts with explicit specs.  Overriding pinned spec.\n",
            "\b\b| \b\b/ \b\b- \b\b\\ \b\b| \b\b/ \b\b- \b\b\\ \b\b| \b\b/ \b\b- \b\b\\ \b\b| \b\b/ \b\b- \b\b\\ \b\b| \b\b/ \b\b- \b\b\\ \b\b| \b\b/ \b\b- \b\b\\ \b\b| \b\b/ \b\b- \b\b\\ \b\b| \b\b/ \b\b- \b\b\\ \b\b| \b\b/ \b\b- \b\b\\ \b\b| \b\b/ \b\b- \b\b\\ \b\b| \b\b/ \b\b- \b\b\\ \b\b| \b\b/ \b\b- \b\b\\ \b\b| \b\b/ \b\b- \b\b\\ \b\b| \b\b/ \b\b- \b\b\\ \b\b| \b\b/ \b\b- \b\b\\ \b\b| \b\b/ \b\b- \b\b\\ \b\b| \b\b/ \b\bdone\n",
            "\n",
            "\n",
            "==> WARNING: A newer version of conda exists. <==\n",
            "  current version: 4.9.2\n",
            "  latest version: 4.13.0\n",
            "\n",
            "Please update conda by running\n",
            "\n",
            "    $ conda update -n base conda\n",
            "\n",
            "\n",
            "Installing pip dependencies: \\ \b\b| \b\b/ \b\b- \b\b\\ \b\b| \b\b/ \b\b- \b\b\\ \b\b| \b\b/ \b\b- \b\b\\ \b\b| \b\b/ \b\b- \b\b\\ \b\b| \b\b/ \b\b- \b\b\\ \b\b| \b\b/ \b\b- \b\b\\ \b\b| \b\b/ \b\b- \b\b\\ \b\b| \b\b/ \b\b- \b\b\\ \b\b| \b\b/ \b\b- \b\b\\ \b\b| \b\b/ \b\b- \b\b\\ \b\b| \b\b/ \b\b- \b\b\\ \b\b| \b\b/ \b\b- \b\b\\ \b\b| \b\b/ \b\b- \b\b\\ \b\b| \b\b/ \b\b- \b\b\\ \b\b| \b\b/ \b\b- \b\b\\ \b\b| \b\b/ \b\b- \b\b\\ \b\b| \b\b/ \b\b- \b\b\\ \b\b| \b\b/ \b\b- \b\b\\ \b\b| \b\b/ \b\b- \b\b\\ \b\b| \b\b/ \b\b- \b\b\\ \b\b| \b\b/ \b\b- \b\b\\ \b\b| \b\b/ \b\b- \b\b\\ \b\b| \b\b/ \b\b- \b\b\\ \b\b| \b\b/ \b\b- \b\b\\ \b\b| \b\b/ \b\b- \b\b\\ \b\b| \b\b/ \b\b- \b\b\\ \b\b| \b\b/ \b\b- \b\b\\ \b\b| \b\b/ \b\b- \b\b\\ \b\b| \b\b/ \b\b- \b\b\\ \b\b| \b\b/ \b\b- \b\b\\ \b\b| \b\b/ \b\b- \b\b\\ \b\b| \b\b/ \b\b- \b\b\\ \b\b| \b\b/ \b\b- \b\b\\ \b\b| \b\b/ \b\b- \b\b\\ \b\b| \b\b/ \b\b- \b\b\\ \b\b| \b\b/ \b\b- \b\b\\ \b\b| \b\b/ \b\b- \b\b\\ \b\b| \b\b/ \b\b- \b\b\\ \b\b| \b\b/ \b\b- \b\b\\ \b\b| \b\b/ \b\b- \b\b\\ \b\b| \b\b/ \b\b- \b\b\\ \b\b| \b\b/ \b\b- \b\b\\ \b\b| \b\b/ \b\b- \b\b\\ \b\b| \b\b/ \b\b- \b\b\\ \b\b| \b\b/ \b\b- \b\b\\ \b\b| \b\b/ \b\b- \b\b\\ \b\b| \b\b/ \b\b- \b\b\\ \b\b| \b\b/ \b\b- \b\b\\ \b\b| \b\b/ \b\b- \b\b\\ \b\b| \b\b/ \b\b- \b\b\\ \b\b| \b\b/ \b\b- \b\b\\ \b\b| \b\b/ \b\b- \b\b\\ \b\b| \b\b/ \b\b- \b\b\\ \b\b| \b\b/ \b\b- \b\b\\ \b\b| \b\b/ \b\b- \b\b\\ \b\b| \b\b/ \b\b- \b\b\\ \b\b| \b\b/ \b\b- \b\b\\ \b\b| \b\b/ \b\b- \b\b\\ \b\b| \b\b/ \b\b- \b\b\\ \b\b| \b\b/ \b\b- \b\b\\ \b\b| \b\b/ \b\b- \b\b\\ \b\b| \b\b/ \b\b- \b\b\\ \b\b| \b\b/ \b\b- \b\b\\ \b\b| \b\b/ \b\b- \b\b\\ \b\b| \b\b/ \b\b- \b\b\\ \b\b| \b\b/ \b\b- \b\b\\ \b\b| \b\b/ \b\b- \b\b\\ \b\b| \b\b/ \b\b- \b\b\\ \b\b| \b\b/ \b\b- \b\b\\ \b\b| \b\b/ \b\b- \b\b\\ \b\b| \b\b/ \b\b- \b\b\\ \b\b| \b\b/ \b\b- \b\b\\ \b\b| \b\b/ \b\b- \b\b\\ \b\b| \b\b/ \b\b- \b\b\\ \b\b| \b\b/ \b\b- \b\b\\ \b\b| \b\b/ Ran pip subprocess with arguments:\n",
            "['/usr/local/bin/python', '-m', 'pip', 'install', '-U', '-r', '/content/condaenv.la__yd8h.requirements.txt']\n",
            "Pip subprocess output:\n",
            "Looking in indexes: https://pypi.org/simple, https://us-python.pkg.dev/colab-wheels/public/simple/\n",
            "Requirement already up-to-date: 2to3==1.0 in /usr/local/lib/python3.7/site-packages (from -r /content/condaenv.la__yd8h.requirements.txt (line 1)) (1.0)\n",
            "Requirement already up-to-date: asciitree==0.3.3 in /usr/local/lib/python3.7/site-packages (from -r /content/condaenv.la__yd8h.requirements.txt (line 2)) (0.3.3)\n",
            "Requirement already up-to-date: asgiref==2.3.2 in /usr/local/lib/python3.7/site-packages (from -r /content/condaenv.la__yd8h.requirements.txt (line 3)) (2.3.2)\n",
            "Requirement already up-to-date: asn1crypto==1.2.0 in /usr/local/lib/python3.7/site-packages (from -r /content/condaenv.la__yd8h.requirements.txt (line 4)) (1.2.0)\n",
            "Requirement already up-to-date: async-timeout==3.0.1 in /usr/local/lib/python3.7/site-packages (from -r /content/condaenv.la__yd8h.requirements.txt (line 5)) (3.0.1)\n",
            "Requirement already up-to-date: atomicwrites==1.3.0 in /usr/local/lib/python3.7/site-packages (from -r /content/condaenv.la__yd8h.requirements.txt (line 6)) (1.3.0)\n",
            "Requirement already up-to-date: autobahn==19.5.1 in /usr/local/lib/python3.7/site-packages (from -r /content/condaenv.la__yd8h.requirements.txt (line 7)) (19.5.1)\n",
            "Requirement already up-to-date: automat==0.8.0 in /usr/local/lib/python3.7/site-packages (from -r /content/condaenv.la__yd8h.requirements.txt (line 8)) (0.8.0)\n",
            "Requirement already up-to-date: bleach==3.1.0 in /usr/local/lib/python3.7/site-packages (from -r /content/condaenv.la__yd8h.requirements.txt (line 9)) (3.1.0)\n",
            "Requirement already up-to-date: channels==2.1.7 in /usr/local/lib/python3.7/site-packages (from -r /content/condaenv.la__yd8h.requirements.txt (line 10)) (2.1.7)\n",
            "Requirement already up-to-date: chardet==3.0.4 in /usr/local/lib/python3.7/site-packages (from -r /content/condaenv.la__yd8h.requirements.txt (line 11)) (3.0.4)\n",
            "Requirement already up-to-date: click==7.0 in /usr/local/lib/python3.7/site-packages (from -r /content/condaenv.la__yd8h.requirements.txt (line 12)) (7.0)\n",
            "Requirement already up-to-date: codacy-coverage==1.3.11 in /usr/local/lib/python3.7/site-packages (from -r /content/condaenv.la__yd8h.requirements.txt (line 13)) (1.3.11)\n",
            "Requirement already up-to-date: constantly==15.1.0 in /usr/local/lib/python3.7/site-packages (from -r /content/condaenv.la__yd8h.requirements.txt (line 14)) (15.1.0)\n",
            "Requirement already up-to-date: coverage==4.5.4 in /usr/local/lib/python3.7/site-packages (from -r /content/condaenv.la__yd8h.requirements.txt (line 15)) (4.5.4)\n",
            "Requirement already up-to-date: cryptography==2.3.1 in /usr/local/lib/python3.7/site-packages (from -r /content/condaenv.la__yd8h.requirements.txt (line 16)) (2.3.1)\n",
            "Requirement already up-to-date: daphne==2.2.5 in /usr/local/lib/python3.7/site-packages (from -r /content/condaenv.la__yd8h.requirements.txt (line 17)) (2.2.5)\n",
            "Requirement already up-to-date: django==2.2.7 in /usr/local/lib/python3.7/site-packages (from -r /content/condaenv.la__yd8h.requirements.txt (line 18)) (2.2.7)\n",
            "Requirement already up-to-date: djangorestframework==3.9.4 in /usr/local/lib/python3.7/site-packages (from -r /content/condaenv.la__yd8h.requirements.txt (line 19)) (3.9.4)\n",
            "Requirement already up-to-date: fasteners==0.15 in /usr/local/lib/python3.7/site-packages (from -r /content/condaenv.la__yd8h.requirements.txt (line 20)) (0.15)\n",
            "Requirement already up-to-date: filelock==3.0.12 in /usr/local/lib/python3.7/site-packages (from -r /content/condaenv.la__yd8h.requirements.txt (line 21)) (3.0.12)\n",
            "Requirement already up-to-date: flask==1.0.2 in /usr/local/lib/python3.7/site-packages (from -r /content/condaenv.la__yd8h.requirements.txt (line 22)) (1.0.2)\n",
            "Requirement already up-to-date: future==0.18.2 in /usr/local/lib/python3.7/site-packages (from -r /content/condaenv.la__yd8h.requirements.txt (line 23)) (0.18.2)\n",
            "Requirement already up-to-date: hyperlink==19.0.0 in /usr/local/lib/python3.7/site-packages (from -r /content/condaenv.la__yd8h.requirements.txt (line 24)) (19.0.0)\n",
            "Requirement already up-to-date: idna==2.8 in /usr/local/lib/python3.7/site-packages (from -r /content/condaenv.la__yd8h.requirements.txt (line 25)) (2.8)\n",
            "Requirement already up-to-date: imagecodecs==2020.2.18 in /usr/local/lib/python3.7/site-packages (from -r /content/condaenv.la__yd8h.requirements.txt (line 26)) (2020.2.18)\n",
            "Requirement already up-to-date: imageio==2.6.1 in /usr/local/lib/python3.7/site-packages (from -r /content/condaenv.la__yd8h.requirements.txt (line 27)) (2.6.1)\n",
            "Requirement already up-to-date: incremental==17.5.0 in /usr/local/lib/python3.7/site-packages (from -r /content/condaenv.la__yd8h.requirements.txt (line 28)) (17.5.0)\n",
            "Requirement already up-to-date: intervaltree==3.0.2 in /usr/local/lib/python3.7/site-packages (from -r /content/condaenv.la__yd8h.requirements.txt (line 29)) (3.0.2)\n",
            "Requirement already up-to-date: itsdangerous==1.1.0 in /usr/local/lib/python3.7/site-packages (from -r /content/condaenv.la__yd8h.requirements.txt (line 30)) (1.1.0)\n",
            "Requirement already up-to-date: joblib==0.14.0 in /usr/local/lib/python3.7/site-packages (from -r /content/condaenv.la__yd8h.requirements.txt (line 31)) (0.14.0)\n",
            "Requirement already up-to-date: jsonfield2==3.0.3 in /usr/local/lib/python3.7/site-packages (from -r /content/condaenv.la__yd8h.requirements.txt (line 32)) (3.0.3)\n",
            "Collecting jsonschema==3.0.0\n",
            "  Downloading jsonschema-3.0.0-py2.py3-none-any.whl (54 kB)\n",
            "Requirement already up-to-date: lmdb==0.98 in /usr/local/lib/python3.7/site-packages (from -r /content/condaenv.la__yd8h.requirements.txt (line 34)) (0.98)\n",
            "Collecting lxml==4.2.1\n",
            "  Using cached lxml-4.2.1.tar.gz (4.3 MB)\n",
            "Collecting lz4==2.2.1\n",
            "  Using cached lz4-2.2.1-cp37-cp37m-manylinux1_x86_64.whl (397 kB)\n",
            "Requirement already up-to-date: monotonic==1.5 in /usr/local/lib/python3.7/site-packages (from -r /content/condaenv.la__yd8h.requirements.txt (line 37)) (1.5)\n",
            "Collecting mypy-extensions==0.4.3\n",
            "  Using cached mypy_extensions-0.4.3-py2.py3-none-any.whl (4.5 kB)\n",
            "Collecting ndg-httpsclient==0.5.0\n",
            "  Using cached ndg_httpsclient-0.5.0-py3-none-any.whl (30 kB)\n",
            "Collecting networkx==2.4\n",
            "  Using cached networkx-2.4-py3-none-any.whl (1.6 MB)\n",
            "Processing /root/.cache/pip/wheels/0f/8e/3c/115ec2d2fbbb34fed6d3e858fd4d2959c4e41b8aacdc8a5b9d/numcodecs-0.6.4-cp37-cp37m-linux_x86_64.whl\n",
            "Collecting opencv-python==4.1.1.26\n",
            "  Using cached opencv_python-4.1.1.26-cp37-cp37m-manylinux1_x86_64.whl (28.7 MB)\n",
            "Processing /root/.cache/pip/wheels/58/b3/05/e26ea0e774fe2232c62d3e80f79c6061d23c3dc72b240cd03f/openslide_python-1.1.1-cp37-cp37m-linux_x86_64.whl\n",
            "Processing /root/.cache/pip/wheels/99/7e/82/a3ea4cc7631c313073730db8756a3c24d1b92fcf834a2d8682/openslides-3.0-py3-none-any.whl\n",
            "Collecting packaging==19.2\n",
            "  Using cached packaging-19.2-py2.py3-none-any.whl (30 kB)\n",
            "Collecting pandas==0.25.3\n",
            "  Using cached pandas-0.25.3-cp37-cp37m-manylinux1_x86_64.whl (10.4 MB)\n",
            "Collecting pkgconfig==1.5.1\n",
            "  Using cached pkgconfig-1.5.1-py2.py3-none-any.whl (12 kB)\n",
            "Collecting pluggy==0.13.1\n",
            "  Using cached pluggy-0.13.1-py2.py3-none-any.whl (18 kB)\n",
            "Collecting progressbar2==3.43.1\n",
            "  Using cached progressbar2-3.43.1-py2.py3-none-any.whl (21 kB)\n",
            "Collecting protobuf==3.10.0\n",
            "  Using cached protobuf-3.10.0-cp37-cp37m-manylinux1_x86_64.whl (1.3 MB)\n",
            "Collecting py==1.8.0\n",
            "  Using cached py-1.8.0-py2.py3-none-any.whl (83 kB)\n",
            "Collecting pyasn1==0.4.3\n",
            "  Using cached pyasn1-0.4.3-py2.py3-none-any.whl (72 kB)\n",
            "Processing /root/.cache/pip/wheels/90/e8/87/823aa0be0de45fa66a5cc46afc547bb0f08475b1f407ca0082/pyflann-1.6.14-py3-none-any.whl\n",
            "Requirement already up-to-date: pyhamcrest==1.9.0 in /usr/local/lib/python3.7/site-packages (from -r /content/condaenv.la__yd8h.requirements.txt (line 54)) (1.9.0)\n",
            "Collecting pyopenssl==18.0.0\n",
            "  Using cached pyOpenSSL-18.0.0-py2.py3-none-any.whl (53 kB)\n",
            "Processing /root/.cache/pip/wheels/80/1a/24/648467ade3a77ed20f35cfd2badd32134e96dd25ca811e64b3/PyPDF2-1.26.0-py3-none-any.whl\n",
            "Collecting pytest==4.6.2\n",
            "  Using cached pytest-4.6.2-py2.py3-none-any.whl (229 kB)\n",
            "Collecting pytest-cov==2.7.1\n",
            "  Using cached pytest_cov-2.7.1-py2.py3-none-any.whl (17 kB)\n",
            "Collecting python-utils==2.3.0\n",
            "  Using cached python_utils-2.3.0-py2.py3-none-any.whl (12 kB)\n",
            "Collecting pywavelets==1.1.1\n",
            "  Using cached PyWavelets-1.1.1-cp37-cp37m-manylinux1_x86_64.whl (4.4 MB)\n",
            "Processing /root/.cache/pip/wheels/95/cd/14/899edaa9cdb9a65aa7224539f6e0ad488e9a7b202bb48f6ae6/PyYAML-3.13-cp37-cp37m-linux_x86_64.whl\n",
            "Requirement already up-to-date: requests==2.22.0 in /usr/local/lib/python3.7/site-packages (from -r /content/condaenv.la__yd8h.requirements.txt (line 62)) (2.22.0)\n",
            "Collecting requests-mock==1.5.2\n",
            "  Using cached requests_mock-1.5.2-py2.py3-none-any.whl (22 kB)\n",
            "Processing /root/.cache/pip/wheels/db/aa/99/fb07ed989fd8d7ee0657643eda0d191a8f6714fac721d21074/roman-3.1-py3-none-any.whl\n",
            "Collecting scikit-image==0.16.2\n",
            "  Using cached scikit_image-0.16.2-cp37-cp37m-manylinux1_x86_64.whl (26.5 MB)\n",
            "Collecting scikit-learn==0.22.1\n",
            "  Using cached scikit_learn-0.22.1-cp37-cp37m-manylinux1_x86_64.whl (7.0 MB)\n",
            "Collecting seaborn==0.9.0\n",
            "  Using cached seaborn-0.9.0-py3-none-any.whl (208 kB)\n",
            "Processing /root/.cache/pip/wheels/46/ef/c3/157e41f5ee1372d1be90b09f74f82b10e391eaacca8f22d33e/sklearn-0.0-py2.py3-none-any.whl\n",
            "Requirement already up-to-date: sortedcontainers==2.1.0 in /usr/local/lib/python3.7/site-packages (from -r /content/condaenv.la__yd8h.requirements.txt (line 69)) (2.1.0)\n",
            "Requirement already up-to-date: sqlparse==0.3.0 in /usr/local/lib/python3.7/site-packages (from -r /content/condaenv.la__yd8h.requirements.txt (line 70)) (0.3.0)\n",
            "Collecting tensorboardx==1.9\n",
            "  Using cached tensorboardX-1.9-py2.py3-none-any.whl (190 kB)\n",
            "Collecting tifffile==2020.2.16\n",
            "  Using cached tifffile-2020.2.16-py3-none-any.whl (130 kB)\n",
            "Collecting toml==0.10.0\n",
            "  Using cached toml-0.10.0-py2.py3-none-any.whl (25 kB)\n",
            "Collecting torchsummary==1.5.1\n",
            "  Using cached torchsummary-1.5.1-py3-none-any.whl (2.8 kB)\n",
            "Collecting torchvision==0.1.8\n",
            "  Using cached torchvision-0.1.8-py2.py3-none-any.whl (37 kB)\n",
            "Collecting tox==3.13.2\n",
            "  Using cached tox-3.13.2-py2.py3-none-any.whl (80 kB)\n",
            "Collecting tqdm==4.37.0\n",
            "  Using cached tqdm-4.37.0-py2.py3-none-any.whl (53 kB)\n",
            "Requirement already up-to-date: twisted==19.7.0 in /usr/local/lib/python3.7/site-packages (from -r /content/condaenv.la__yd8h.requirements.txt (line 78)) (19.7.0)\n",
            "Requirement already up-to-date: txaio==18.8.1 in /usr/local/lib/python3.7/site-packages (from -r /content/condaenv.la__yd8h.requirements.txt (line 79)) (18.8.1)\n",
            "Collecting typing-extensions==3.7.4.1\n",
            "  Using cached typing_extensions-3.7.4.1-py3-none-any.whl (20 kB)\n",
            "Requirement already up-to-date: urllib3==1.25.7 in /usr/local/lib/python3.7/site-packages (from -r /content/condaenv.la__yd8h.requirements.txt (line 81)) (1.25.7)\n",
            "Collecting virtualenv==16.7.7\n",
            "  Using cached virtualenv-16.7.7-py2.py3-none-any.whl (3.4 MB)\n",
            "Requirement already up-to-date: webencodings==0.5.1 in /usr/local/lib/python3.7/site-packages (from -r /content/condaenv.la__yd8h.requirements.txt (line 83)) (0.5.1)\n",
            "Collecting websockets==8.1\n",
            "  Using cached websockets-8.1-cp37-cp37m-manylinux2010_x86_64.whl (79 kB)\n",
            "Processing /root/.cache/pip/wheels/82/8e/2a/75e146d58f4b867d10702ff48e9e920358ef8b05b22cb036ff/zarr-2.3.2-py3-none-any.whl\n",
            "Collecting zope-interface==4.6.0\n",
            "  Using cached zope.interface-4.6.0-cp37-cp37m-manylinux1_x86_64.whl (167 kB)\n",
            "Requirement already satisfied, skipping upgrade: six>=1.11.0 in /usr/local/lib/python3.7/site-packages (from autobahn==19.5.1->-r /content/condaenv.la__yd8h.requirements.txt (line 7)) (1.14.0)\n",
            "Requirement already satisfied, skipping upgrade: attrs>=16.1.0 in /usr/local/lib/python3.7/site-packages (from automat==0.8.0->-r /content/condaenv.la__yd8h.requirements.txt (line 8)) (19.3.0)\n",
            "Requirement already satisfied, skipping upgrade: cffi!=1.11.3,>=1.7 in /usr/local/lib/python3.7/site-packages (from cryptography==2.3.1->-r /content/condaenv.la__yd8h.requirements.txt (line 16)) (1.14.0)\n",
            "Requirement already satisfied, skipping upgrade: pytz in /usr/local/lib/python3.7/site-packages (from django==2.2.7->-r /content/condaenv.la__yd8h.requirements.txt (line 18)) (2019.3)\n",
            "Requirement already satisfied, skipping upgrade: Jinja2>=2.10 in /usr/local/lib/python3.7/site-packages (from flask==1.0.2->-r /content/condaenv.la__yd8h.requirements.txt (line 22)) (2.11.1)\n",
            "Requirement already satisfied, skipping upgrade: Werkzeug>=0.14 in /usr/local/lib/python3.7/site-packages (from flask==1.0.2->-r /content/condaenv.la__yd8h.requirements.txt (line 22)) (1.0.0)\n",
            "Requirement already satisfied, skipping upgrade: numpy>=1.15 in /usr/local/lib/python3.7/site-packages (from imagecodecs==2020.2.18->-r /content/condaenv.la__yd8h.requirements.txt (line 26)) (1.18.1)\n",
            "Requirement already satisfied, skipping upgrade: pillow in /usr/local/lib/python3.7/site-packages (from imageio==2.6.1->-r /content/condaenv.la__yd8h.requirements.txt (line 27)) (7.0.0)\n",
            "Requirement already satisfied, skipping upgrade: setuptools in /usr/local/lib/python3.7/site-packages (from jsonschema==3.0.0->-r /content/condaenv.la__yd8h.requirements.txt (line 33)) (41.6.0)\n",
            "Requirement already satisfied, skipping upgrade: pyrsistent>=0.14.0 in /usr/local/lib/python3.7/site-packages (from jsonschema==3.0.0->-r /content/condaenv.la__yd8h.requirements.txt (line 33)) (0.15.7)\n",
            "Requirement already satisfied, skipping upgrade: decorator>=4.3.0 in /usr/local/lib/python3.7/site-packages (from networkx==2.4->-r /content/condaenv.la__yd8h.requirements.txt (line 40)) (4.4.2)\n",
            "Requirement already satisfied, skipping upgrade: pyparsing>=2.0.2 in /usr/local/lib/python3.7/site-packages (from packaging==19.2->-r /content/condaenv.la__yd8h.requirements.txt (line 45)) (2.4.6)\n",
            "Requirement already satisfied, skipping upgrade: python-dateutil>=2.6.1 in /usr/local/lib/python3.7/site-packages (from pandas==0.25.3->-r /content/condaenv.la__yd8h.requirements.txt (line 46)) (2.8.1)\n",
            "Requirement already satisfied, skipping upgrade: importlib-metadata>=0.12; python_version < \"3.8\" in /usr/local/lib/python3.7/site-packages (from pluggy==0.13.1->-r /content/condaenv.la__yd8h.requirements.txt (line 48)) (4.11.4)\n",
            "Collecting more-itertools>=4.0.0; python_version > \"2.7\"\n",
            "  Using cached more_itertools-8.13.0-py3-none-any.whl (51 kB)\n",
            "Requirement already satisfied, skipping upgrade: wcwidth in /usr/local/lib/python3.7/site-packages (from pytest==4.6.2->-r /content/condaenv.la__yd8h.requirements.txt (line 57)) (0.1.8)\n",
            "Requirement already satisfied, skipping upgrade: certifi>=2017.4.17 in /usr/local/lib/python3.7/site-packages (from requests==2.22.0->-r /content/condaenv.la__yd8h.requirements.txt (line 62)) (2019.11.28)\n",
            "Requirement already satisfied, skipping upgrade: scipy>=0.19.0 in /usr/local/lib/python3.7/site-packages (from scikit-image==0.16.2->-r /content/condaenv.la__yd8h.requirements.txt (line 65)) (1.4.1)\n",
            "Requirement already satisfied, skipping upgrade: matplotlib!=3.0.0,>=2.0.0 in /usr/local/lib/python3.7/site-packages (from scikit-image==0.16.2->-r /content/condaenv.la__yd8h.requirements.txt (line 65)) (3.1.1)\n",
            "Requirement already satisfied, skipping upgrade: torch in /usr/local/lib/python3.7/site-packages (from torchvision==0.1.8->-r /content/condaenv.la__yd8h.requirements.txt (line 75)) (1.3.1)\n",
            "Requirement already satisfied, skipping upgrade: pycparser in /usr/local/lib/python3.7/site-packages (from cffi!=1.11.3,>=1.7->cryptography==2.3.1->-r /content/condaenv.la__yd8h.requirements.txt (line 16)) (2.20)\n",
            "Requirement already satisfied, skipping upgrade: MarkupSafe>=0.23 in /usr/local/lib/python3.7/site-packages (from Jinja2>=2.10->flask==1.0.2->-r /content/condaenv.la__yd8h.requirements.txt (line 22)) (1.1.1)\n",
            "Requirement already satisfied, skipping upgrade: zipp>=0.5 in /usr/local/lib/python3.7/site-packages (from importlib-metadata>=0.12; python_version < \"3.8\"->pluggy==0.13.1->-r /content/condaenv.la__yd8h.requirements.txt (line 48)) (2.2.0)\n",
            "Requirement already satisfied, skipping upgrade: cycler>=0.10 in /usr/local/lib/python3.7/site-packages (from matplotlib!=3.0.0,>=2.0.0->scikit-image==0.16.2->-r /content/condaenv.la__yd8h.requirements.txt (line 65)) (0.10.0)\n",
            "Requirement already satisfied, skipping upgrade: kiwisolver>=1.0.1 in /usr/local/lib/python3.7/site-packages (from matplotlib!=3.0.0,>=2.0.0->scikit-image==0.16.2->-r /content/condaenv.la__yd8h.requirements.txt (line 65)) (1.1.0)\n",
            "Building wheels for collected packages: lxml\n",
            "  Building wheel for lxml (setup.py): started\n",
            "  Building wheel for lxml (setup.py): finished with status 'error'\n",
            "  Running setup.py clean for lxml\n",
            "Failed to build lxml\n",
            "Installing collected packages: jsonschema, lxml, lz4, mypy-extensions, pyasn1, pyopenssl, ndg-httpsclient, networkx, numcodecs, opencv-python, openslide-python, typing-extensions, pypdf2, roman, websockets, openslides, packaging, pandas, pkgconfig, pluggy, python-utils, progressbar2, protobuf, py, pyflann, more-itertools, pytest, pytest-cov, pywavelets, pyyaml, requests-mock, scikit-image, scikit-learn, seaborn, sklearn, tensorboardx, tifffile, toml, torchsummary, torchvision, virtualenv, tox, tqdm, zarr, zope-interface\n",
            "  Attempting uninstall: jsonschema\n",
            "    Found existing installation: jsonschema 2.6.0\n",
            "    Uninstalling jsonschema-2.6.0:\n",
            "      Successfully uninstalled jsonschema-2.6.0\n",
            "    Running setup.py install for lxml: started\n",
            "    Running setup.py install for lxml: finished with status 'error'\n",
            "\n",
            "Pip subprocess error:\n",
            "\b\b-   ERROR: Failed building wheel for lxml\n",
            "ERROR: tox 3.13.2 has requirement importlib-metadata<1,>=0.12, but you'll have importlib-metadata 4.11.4 which is incompatible.\n",
            "ERROR: Command errored out with exit status 1: /usr/local/bin/python -u -c 'import sys, setuptools, tokenize; sys.argv[0] = '\"'\"'/tmp/pip-install-0pb_xthc/lxml/setup.py'\"'\"'; __file__='\"'\"'/tmp/pip-install-0pb_xthc/lxml/setup.py'\"'\"';f=getattr(tokenize, '\"'\"'open'\"'\"', open)(__file__);code=f.read().replace('\"'\"'\\r\\n'\"'\"', '\"'\"'\\n'\"'\"');f.close();exec(compile(code, __file__, '\"'\"'exec'\"'\"'))' install --record /tmp/pip-record-1l56safv/install-record.txt --single-version-externally-managed --compile --install-headers /usr/local/include/python3.7m/lxml Check the logs for full command output.\n",
            "\n",
            "\b\bfailed\n",
            "\n",
            "CondaEnvException: Pip failed\n",
            "\n"
          ]
        }
      ]
    },
    {
      "cell_type": "code",
      "execution_count": 32,
      "metadata": {
        "id": "jvxxmsw62D_d",
        "colab": {
          "base_uri": "https://localhost:8080/"
        },
        "outputId": "45648dba-32b2-4e00-982a-47b99896af6a"
      },
      "outputs": [
        {
          "output_type": "stream",
          "name": "stdout",
          "text": [
            "Reading package lists... Done\n",
            "Building dependency tree       \n",
            "Reading state information... Done\n",
            "openslide-tools is already the newest version (3.4.1+dfsg-2).\n",
            "The following package was automatically installed and is no longer required:\n",
            "  libnvidia-common-460\n",
            "Use 'apt autoremove' to remove it.\n",
            "0 upgraded, 0 newly installed, 0 to remove and 49 not upgraded.\n"
          ]
        }
      ],
      "source": [
        "!apt-get install openslide-tools"
      ]
    },
    {
      "cell_type": "code",
      "source": [
        "!python --version\n",
        "!which python\n",
        "!echo $PYTHONPATH\n",
        "# %env PYTHONPATH="
      ],
      "metadata": {
        "id": "R9TpPWOO-am-",
        "colab": {
          "base_uri": "https://localhost:8080/"
        },
        "outputId": "93690291-d25b-473c-88fd-7af438f6246c"
      },
      "execution_count": 40,
      "outputs": [
        {
          "output_type": "stream",
          "name": "stdout",
          "text": [
            "Python 3.7.7\n",
            "/usr/local/bin/python\n",
            "/env/python\n"
          ]
        }
      ]
    },
    {
      "cell_type": "code",
      "source": [
        "!conda --version\n",
        "!which conda"
      ],
      "metadata": {
        "colab": {
          "base_uri": "https://localhost:8080/"
        },
        "id": "5J0lAPrz85kQ",
        "outputId": "a36c8a6e-e633-40cf-e0dc-2313fc9e8df1"
      },
      "execution_count": 39,
      "outputs": [
        {
          "output_type": "stream",
          "name": "stdout",
          "text": [
            "conda 4.9.2\n",
            "/usr/local/bin/conda\n"
          ]
        }
      ]
    },
    {
      "cell_type": "code",
      "source": [
        "!git clone https://github.com/oval-group/smooth-topk.git\n",
        "!cd smooth-topk\n",
        "!python setup.py install"
      ],
      "metadata": {
        "colab": {
          "base_uri": "https://localhost:8080/"
        },
        "id": "5XFZDo6j8GVV",
        "outputId": "b5cbd887-b8ba-4ce1-d7c6-6f814fa7feb0"
      },
      "execution_count": 35,
      "outputs": [
        {
          "output_type": "stream",
          "name": "stdout",
          "text": [
            "fatal: destination path 'smooth-topk' already exists and is not an empty directory.\n",
            "python: can't open file 'setup.py': [Errno 2] No such file or directory\n"
          ]
        }
      ]
    },
    {
      "cell_type": "markdown",
      "source": [
        "# Run"
      ],
      "metadata": {
        "id": "DAHvyiWk917p"
      }
    },
    {
      "cell_type": "code",
      "source": [
        "# Basic, Fully Automated Run\n",
        "!python create_patches_fp.py --source DATA_DIRECTORY --save_dir RESULTS_DIRECTORY --patch_size 256 --seg --patch --stitch "
      ],
      "metadata": {
        "colab": {
          "base_uri": "https://localhost:8080/"
        },
        "id": "jDLcnpet8Ssj",
        "outputId": "86b92b30-c12f-4332-f2c5-ed2eb74f23cb"
      },
      "execution_count": 36,
      "outputs": [
        {
          "output_type": "stream",
          "name": "stdout",
          "text": [
            "python: can't open file 'create_patches_fp.py': [Errno 2] No such file or directory\n"
          ]
        }
      ]
    },
    {
      "cell_type": "code",
      "source": [
        "# !python create_patches_fp.py --source DATA_DIRECTORY --save_dir RESULTS_DIRECTORY --patch_size 256 --preset bwh_biopsy.csv --seg --patch --stitch"
      ],
      "metadata": {
        "id": "ZAvAjbV-8WXk"
      },
      "execution_count": 37,
      "outputs": []
    },
    {
      "cell_type": "code",
      "source": [
        "# Two-Step Run (Mannually Adjust Parameters For Specific Slides)\n",
        "!python create_patches_fp.py --source DATA_DIRECTORY --save_dir RESULTS_DIRECTORY --patch_size 256 --seg  "
      ],
      "metadata": {
        "colab": {
          "base_uri": "https://localhost:8080/"
        },
        "id": "95Gi9DUy8YvC",
        "outputId": "ef628b50-4c41-41c0-b0dc-75534d58ab36"
      },
      "execution_count": 38,
      "outputs": [
        {
          "output_type": "stream",
          "name": "stdout",
          "text": [
            "python: can't open file 'create_patches_fp.py': [Errno 2] No such file or directory\n"
          ]
        }
      ]
    },
    {
      "cell_type": "code",
      "source": [
        ""
      ],
      "metadata": {
        "id": "YBSC2QJv8lLG"
      },
      "execution_count": 38,
      "outputs": []
    }
  ]
}