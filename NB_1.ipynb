{
  "nbformat": 4,
  "nbformat_minor": 0,
  "metadata": {
    "colab": {
      "name": "NB_1.ipynb",
      "provenance": [],
      "collapsed_sections": [],
      "authorship_tag": "ABX9TyMnP0hOcsjO1RL02VQt63uJ",
      "include_colab_link": true
    },
    "kernelspec": {
      "name": "python3",
      "display_name": "Python 3"
    },
    "language_info": {
      "name": "python"
    }
  },
  "cells": [
    {
      "cell_type": "markdown",
      "metadata": {
        "id": "view-in-github",
        "colab_type": "text"
      },
      "source": [
        "<a href=\"https://colab.research.google.com/github/AshrithSagar/DL-Fungal-1/blob/main/NB_1.ipynb\" target=\"_parent\"><img src=\"https://colab.research.google.com/assets/colab-badge.svg\" alt=\"Open In Colab\"/></a>"
      ]
    },
    {
      "cell_type": "markdown",
      "source": [
        "# Installation"
      ],
      "metadata": {
        "id": "ohrswbLt94Op"
      }
    },
    {
      "cell_type": "code",
      "source": [
        "!pip install -q condacolab\n",
        "import condacolab\n",
        "condacolab.install()"
      ],
      "metadata": {
        "id": "5RPkev3k6bfO"
      },
      "execution_count": null,
      "outputs": []
    },
    {
      "cell_type": "code",
      "source": [
        "import condacolab\n",
        "condacolab.check()"
      ],
      "metadata": {
        "id": "HqMmkGWe6uWA"
      },
      "execution_count": null,
      "outputs": []
    },
    {
      "cell_type": "code",
      "source": [
        " % cd /content\n",
        "!git clone https://github.com/mahmoodlab/CLAM.git"
      ],
      "metadata": {
        "id": "EdaL7VI2fryT"
      },
      "execution_count": null,
      "outputs": []
    },
    {
      "cell_type": "code",
      "source": [
        "checkpoint = input()"
      ],
      "metadata": {
        "id": "yy7In5T7jjKB"
      },
      "execution_count": null,
      "outputs": []
    },
    {
      "cell_type": "markdown",
      "source": [
        "Remove versions in `docs/clam.yaml` for \n",
        "- jsonschema\n",
        "- openslides\n",
        "- lxml"
      ],
      "metadata": {
        "id": "mc--r0RMG91V"
      }
    },
    {
      "cell_type": "code",
      "source": [
        "!conda env update -n base -f /content/CLAM/docs/clam.yaml"
      ],
      "metadata": {
        "id": "xguXiWSp6wSj"
      },
      "execution_count": null,
      "outputs": []
    },
    {
      "cell_type": "code",
      "execution_count": null,
      "metadata": {
        "id": "jvxxmsw62D_d"
      },
      "outputs": [],
      "source": [
        "!apt-get install openslide-tools"
      ]
    },
    {
      "cell_type": "code",
      "source": [
        "!python --version\n",
        "!which python\n",
        "!echo $PYTHONPATH\n",
        "# %env PYTHONPATH="
      ],
      "metadata": {
        "id": "R9TpPWOO-am-"
      },
      "execution_count": null,
      "outputs": []
    },
    {
      "cell_type": "code",
      "source": [
        "!conda --version\n",
        "!which conda"
      ],
      "metadata": {
        "id": "5J0lAPrz85kQ"
      },
      "execution_count": null,
      "outputs": []
    },
    {
      "cell_type": "code",
      "source": [
        "%cd /content\n",
        "!git clone https://github.com/oval-group/smooth-topk.git\n",
        "!python smooth-topk/setup.py install"
      ],
      "metadata": {
        "id": "TOzkr4EFhS0v"
      },
      "execution_count": null,
      "outputs": []
    },
    {
      "cell_type": "markdown",
      "source": [
        "# Run"
      ],
      "metadata": {
        "id": "DAHvyiWk917p"
      }
    },
    {
      "cell_type": "code",
      "source": [
        "# Basic, Fully Automated Run\n",
        "!python create_patches_fp.py --source DATA_DIRECTORY --save_dir RESULTS_DIRECTORY --patch_size 256 --seg --patch --stitch "
      ],
      "metadata": {
        "id": "jDLcnpet8Ssj"
      },
      "execution_count": null,
      "outputs": []
    },
    {
      "cell_type": "code",
      "source": [
        "# !python create_patches_fp.py --source DATA_DIRECTORY --save_dir RESULTS_DIRECTORY --patch_size 256 --preset bwh_biopsy.csv --seg --patch --stitch"
      ],
      "metadata": {
        "id": "ZAvAjbV-8WXk"
      },
      "execution_count": null,
      "outputs": []
    },
    {
      "cell_type": "code",
      "source": [
        "# Two-Step Run (Mannually Adjust Parameters For Specific Slides)\n",
        "!python create_patches_fp.py --source DATA_DIRECTORY --save_dir RESULTS_DIRECTORY --patch_size 256 --seg  "
      ],
      "metadata": {
        "id": "95Gi9DUy8YvC"
      },
      "execution_count": null,
      "outputs": []
    }
  ]
}